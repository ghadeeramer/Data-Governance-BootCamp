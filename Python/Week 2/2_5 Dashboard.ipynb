{
 "cells": [
  {
   "cell_type": "markdown",
   "id": "bbe9eb4f-307d-4aed-8f13-6bd4d10ce199",
   "metadata": {},
   "source": [
    "# Email Marketing Dashboard"
   ]
  },
  {
   "cell_type": "markdown",
   "id": "58c07841-4b76-48f0-8085-a9dad9617189",
   "metadata": {},
   "source": [
    "# import"
   ]
  },
  {
   "cell_type": "code",
   "execution_count": 1,
   "id": "b0b6b2d8-a400-4b05-abe1-aa76d2b5a21b",
   "metadata": {},
   "outputs": [],
   "source": [
    "import pandas as pd\n",
    "import matplotlib.pyplot as plt\n",
    "import numpy as np\n",
    "import seaborn as sns \n",
    "\n",
    "from plotly.subplots import make_subplots\n",
    "import plotly.express as px\n",
    "import plotly.graph_objects as go\n",
    "from jupyter_dash import JupyterDash\n",
    "import dash_core_components as dcc\n",
    "import dash_html_components as html\n",
    "from dash.dependencies import Input, Output, State\n",
    "import dash"
   ]
  },
  {
   "cell_type": "markdown",
   "id": "b2c9a43a-467e-47bf-adc1-013c47a4c60b",
   "metadata": {},
   "source": [
    "# Read CSV"
   ]
  },
  {
   "cell_type": "code",
   "execution_count": 2,
   "id": "87b0b970-cb80-422e-9f5d-97bfa1f686ef",
   "metadata": {},
   "outputs": [],
   "source": [
    "df = pd.read_csv('Email Marketing Analysis.csv')"
   ]
  },
  {
   "cell_type": "markdown",
   "id": "c8216421-5b57-4a0e-9e63-4113d2f67be4",
   "metadata": {},
   "source": [
    "# Data Information"
   ]
  },
  {
   "cell_type": "code",
   "execution_count": 3,
   "id": "b2a4d1f5-f027-4f7a-bdaf-a29b39685d30",
   "metadata": {},
   "outputs": [
    {
     "name": "stdout",
     "output_type": "stream",
     "text": [
      "<class 'pandas.core.frame.DataFrame'>\n",
      "RangeIndex: 10000 entries, 0 to 9999\n",
      "Data columns (total 11 columns):\n",
      " #   Column         Non-Null Count  Dtype  \n",
      "---  ------         --------------  -----  \n",
      " 0   Column1        10000 non-null  object \n",
      " 1   Type           10000 non-null  object \n",
      " 2   Status         10000 non-null  object \n",
      " 3   City           9927 non-null   object \n",
      " 4   State          9874 non-null   object \n",
      " 5   PostalCode     9999 non-null   float64\n",
      " 6   GenderCode     10000 non-null  object \n",
      " 7   BirthDate      10000 non-null  object \n",
      " 8   MaritalStatus  10000 non-null  object \n",
      " 9   Enrolled on    10000 non-null  object \n",
      " 10  Living status  10000 non-null  object \n",
      "dtypes: float64(1), object(10)\n",
      "memory usage: 859.5+ KB\n"
     ]
    }
   ],
   "source": [
    "df.info()"
   ]
  },
  {
   "cell_type": "code",
   "execution_count": 4,
   "id": "59a60f82-b69b-4d6d-a49d-774ac49f2064",
   "metadata": {},
   "outputs": [
    {
     "data": {
      "text/html": [
       "<div>\n",
       "<style scoped>\n",
       "    .dataframe tbody tr th:only-of-type {\n",
       "        vertical-align: middle;\n",
       "    }\n",
       "\n",
       "    .dataframe tbody tr th {\n",
       "        vertical-align: top;\n",
       "    }\n",
       "\n",
       "    .dataframe thead th {\n",
       "        text-align: right;\n",
       "    }\n",
       "</style>\n",
       "<table border=\"1\" class=\"dataframe\">\n",
       "  <thead>\n",
       "    <tr style=\"text-align: right;\">\n",
       "      <th></th>\n",
       "      <th>Column1</th>\n",
       "      <th>Type</th>\n",
       "      <th>Status</th>\n",
       "      <th>City</th>\n",
       "      <th>State</th>\n",
       "      <th>GenderCode</th>\n",
       "      <th>BirthDate</th>\n",
       "      <th>MaritalStatus</th>\n",
       "      <th>Enrolled on</th>\n",
       "      <th>Living status</th>\n",
       "    </tr>\n",
       "  </thead>\n",
       "  <tbody>\n",
       "    <tr>\n",
       "      <th>count</th>\n",
       "      <td>10000</td>\n",
       "      <td>10000</td>\n",
       "      <td>10000</td>\n",
       "      <td>9927</td>\n",
       "      <td>9874</td>\n",
       "      <td>10000</td>\n",
       "      <td>10000</td>\n",
       "      <td>10000</td>\n",
       "      <td>10000</td>\n",
       "      <td>10000</td>\n",
       "    </tr>\n",
       "    <tr>\n",
       "      <th>unique</th>\n",
       "      <td>10000</td>\n",
       "      <td>2</td>\n",
       "      <td>3</td>\n",
       "      <td>388</td>\n",
       "      <td>35</td>\n",
       "      <td>4</td>\n",
       "      <td>6719</td>\n",
       "      <td>2</td>\n",
       "      <td>577</td>\n",
       "      <td>3</td>\n",
       "    </tr>\n",
       "    <tr>\n",
       "      <th>top</th>\n",
       "      <td>03B55CC9-6668-11e9-9B68-0050569857FB</td>\n",
       "      <td>Individual</td>\n",
       "      <td>Active</td>\n",
       "      <td>Hyderabad</td>\n",
       "      <td>TELANGANA</td>\n",
       "      <td>MALE</td>\n",
       "      <td>1-Jan-00</td>\n",
       "      <td>M</td>\n",
       "      <td>12-Aug-18</td>\n",
       "      <td>couple with children</td>\n",
       "    </tr>\n",
       "    <tr>\n",
       "      <th>freq</th>\n",
       "      <td>1</td>\n",
       "      <td>9736</td>\n",
       "      <td>9900</td>\n",
       "      <td>2639</td>\n",
       "      <td>4304</td>\n",
       "      <td>6887</td>\n",
       "      <td>244</td>\n",
       "      <td>9676</td>\n",
       "      <td>209</td>\n",
       "      <td>4825</td>\n",
       "    </tr>\n",
       "  </tbody>\n",
       "</table>\n",
       "</div>"
      ],
      "text/plain": [
       "                                     Column1        Type  Status       City  \\\n",
       "count                                  10000       10000   10000       9927   \n",
       "unique                                 10000           2       3        388   \n",
       "top     03B55CC9-6668-11e9-9B68-0050569857FB  Individual  Active  Hyderabad   \n",
       "freq                                       1        9736    9900       2639   \n",
       "\n",
       "            State GenderCode BirthDate MaritalStatus Enrolled on   \\\n",
       "count        9874      10000     10000         10000        10000   \n",
       "unique         35          4      6719             2          577   \n",
       "top     TELANGANA       MALE  1-Jan-00             M    12-Aug-18   \n",
       "freq         4304       6887       244          9676          209   \n",
       "\n",
       "               Living status  \n",
       "count                  10000  \n",
       "unique                     3  \n",
       "top     couple with children  \n",
       "freq                    4825  "
      ]
     },
     "execution_count": 4,
     "metadata": {},
     "output_type": "execute_result"
    }
   ],
   "source": [
    "df.describe(exclude= 'number')"
   ]
  },
  {
   "cell_type": "markdown",
   "id": "a7c7e0e5-94d7-4b10-95a7-fb41ddcd445c",
   "metadata": {},
   "source": [
    "# Check missing Values "
   ]
  },
  {
   "cell_type": "code",
   "execution_count": 5,
   "id": "030cd467-268e-4687-b858-274bce0512c9",
   "metadata": {},
   "outputs": [
    {
     "data": {
      "text/plain": [
       "Hyderabad         2639\n",
       "Secunderabad      2093\n",
       "Mumbai            1498\n",
       "Hyderabad City     976\n",
       "Thane              227\n",
       "                  ... \n",
       "Yerraguntla          1\n",
       "Anand                1\n",
       "Alwar                1\n",
       "Silchar              1\n",
       "Vashi                1\n",
       "Name: City, Length: 388, dtype: int64"
      ]
     },
     "execution_count": 5,
     "metadata": {},
     "output_type": "execute_result"
    }
   ],
   "source": [
    "df[\"City\"].value_counts()"
   ]
  },
  {
   "cell_type": "markdown",
   "id": "1b30a34c-b4ba-4931-9352-4c8689bfb591",
   "metadata": {},
   "source": [
    "# Pre-prosses"
   ]
  },
  {
   "cell_type": "code",
   "execution_count": 6,
   "id": "3e5ba49a-a885-406a-bdaf-98d8391f0b14",
   "metadata": {},
   "outputs": [
    {
     "data": {
      "text/plain": [
       "73"
      ]
     },
     "execution_count": 6,
     "metadata": {},
     "output_type": "execute_result"
    }
   ],
   "source": [
    "df['City'].isnull().sum()"
   ]
  },
  {
   "cell_type": "code",
   "execution_count": 7,
   "id": "c0364d34-6413-460f-9dec-b1f5afdf67e9",
   "metadata": {},
   "outputs": [
    {
     "data": {
      "text/plain": [
       "126"
      ]
     },
     "execution_count": 7,
     "metadata": {},
     "output_type": "execute_result"
    }
   ],
   "source": [
    "df['State'].isnull().sum()"
   ]
  },
  {
   "cell_type": "code",
   "execution_count": 8,
   "id": "4e19883f-b982-44cb-8499-1738e0628d73",
   "metadata": {},
   "outputs": [
    {
     "data": {
      "text/plain": [
       "Column1            0\n",
       "Type               0\n",
       "Status             0\n",
       "City              73\n",
       "State            126\n",
       "PostalCode         1\n",
       "GenderCode         0\n",
       "BirthDate          0\n",
       "MaritalStatus      0\n",
       "Enrolled on        0\n",
       "Living status      0\n",
       "dtype: int64"
      ]
     },
     "execution_count": 8,
     "metadata": {},
     "output_type": "execute_result"
    }
   ],
   "source": [
    "df.isnull().sum()"
   ]
  },
  {
   "cell_type": "code",
   "execution_count": 9,
   "id": "810b0498-dc40-4298-b9a5-b22e5868bf53",
   "metadata": {},
   "outputs": [
    {
     "data": {
      "text/plain": [
       "'Hyderabad'"
      ]
     },
     "execution_count": 9,
     "metadata": {},
     "output_type": "execute_result"
    }
   ],
   "source": [
    "City_mode = df['City'].mode()[0]\n",
    "City_mode"
   ]
  },
  {
   "cell_type": "code",
   "execution_count": 10,
   "id": "fa9a8fc7-f5ff-459e-9bd9-19ba2faec646",
   "metadata": {},
   "outputs": [],
   "source": [
    "# Replace NaN values with mode\n",
    "df['City'] = df['City'].replace(np.NaN, City_mode)"
   ]
  },
  {
   "cell_type": "code",
   "execution_count": 11,
   "id": "e818cd3b-51d9-4c49-ad9b-1af00c37f3c5",
   "metadata": {},
   "outputs": [
    {
     "data": {
      "text/plain": [
       "0"
      ]
     },
     "execution_count": 11,
     "metadata": {},
     "output_type": "execute_result"
    }
   ],
   "source": [
    "df['City'].isnull().sum()"
   ]
  },
  {
   "cell_type": "code",
   "execution_count": 12,
   "id": "c8aed860-0414-410d-80e5-2f16adcb320b",
   "metadata": {},
   "outputs": [
    {
     "data": {
      "text/html": [
       "<div>\n",
       "<style scoped>\n",
       "    .dataframe tbody tr th:only-of-type {\n",
       "        vertical-align: middle;\n",
       "    }\n",
       "\n",
       "    .dataframe tbody tr th {\n",
       "        vertical-align: top;\n",
       "    }\n",
       "\n",
       "    .dataframe thead th {\n",
       "        text-align: right;\n",
       "    }\n",
       "</style>\n",
       "<table border=\"1\" class=\"dataframe\">\n",
       "  <thead>\n",
       "    <tr style=\"text-align: right;\">\n",
       "      <th></th>\n",
       "      <th>Column1</th>\n",
       "      <th>Type</th>\n",
       "      <th>Status</th>\n",
       "      <th>City</th>\n",
       "      <th>State</th>\n",
       "      <th>GenderCode</th>\n",
       "      <th>BirthDate</th>\n",
       "      <th>MaritalStatus</th>\n",
       "      <th>Enrolled on</th>\n",
       "      <th>Living status</th>\n",
       "    </tr>\n",
       "  </thead>\n",
       "  <tbody>\n",
       "    <tr>\n",
       "      <th>count</th>\n",
       "      <td>10000</td>\n",
       "      <td>10000</td>\n",
       "      <td>10000</td>\n",
       "      <td>10000</td>\n",
       "      <td>9874</td>\n",
       "      <td>10000</td>\n",
       "      <td>10000</td>\n",
       "      <td>10000</td>\n",
       "      <td>10000</td>\n",
       "      <td>10000</td>\n",
       "    </tr>\n",
       "    <tr>\n",
       "      <th>unique</th>\n",
       "      <td>10000</td>\n",
       "      <td>2</td>\n",
       "      <td>3</td>\n",
       "      <td>388</td>\n",
       "      <td>35</td>\n",
       "      <td>4</td>\n",
       "      <td>6719</td>\n",
       "      <td>2</td>\n",
       "      <td>577</td>\n",
       "      <td>3</td>\n",
       "    </tr>\n",
       "    <tr>\n",
       "      <th>top</th>\n",
       "      <td>03B55CC9-6668-11e9-9B68-0050569857FB</td>\n",
       "      <td>Individual</td>\n",
       "      <td>Active</td>\n",
       "      <td>Hyderabad</td>\n",
       "      <td>TELANGANA</td>\n",
       "      <td>MALE</td>\n",
       "      <td>1-Jan-00</td>\n",
       "      <td>M</td>\n",
       "      <td>12-Aug-18</td>\n",
       "      <td>couple with children</td>\n",
       "    </tr>\n",
       "    <tr>\n",
       "      <th>freq</th>\n",
       "      <td>1</td>\n",
       "      <td>9736</td>\n",
       "      <td>9900</td>\n",
       "      <td>2712</td>\n",
       "      <td>4304</td>\n",
       "      <td>6887</td>\n",
       "      <td>244</td>\n",
       "      <td>9676</td>\n",
       "      <td>209</td>\n",
       "      <td>4825</td>\n",
       "    </tr>\n",
       "  </tbody>\n",
       "</table>\n",
       "</div>"
      ],
      "text/plain": [
       "                                     Column1        Type  Status       City  \\\n",
       "count                                  10000       10000   10000      10000   \n",
       "unique                                 10000           2       3        388   \n",
       "top     03B55CC9-6668-11e9-9B68-0050569857FB  Individual  Active  Hyderabad   \n",
       "freq                                       1        9736    9900       2712   \n",
       "\n",
       "            State GenderCode BirthDate MaritalStatus Enrolled on   \\\n",
       "count        9874      10000     10000         10000        10000   \n",
       "unique         35          4      6719             2          577   \n",
       "top     TELANGANA       MALE  1-Jan-00             M    12-Aug-18   \n",
       "freq         4304       6887       244          9676          209   \n",
       "\n",
       "               Living status  \n",
       "count                  10000  \n",
       "unique                     3  \n",
       "top     couple with children  \n",
       "freq                    4825  "
      ]
     },
     "execution_count": 12,
     "metadata": {},
     "output_type": "execute_result"
    }
   ],
   "source": [
    "df.describe(include=[object])"
   ]
  },
  {
   "cell_type": "code",
   "execution_count": 13,
   "id": "3f2de4f5-c3dd-474e-89a5-e385872e7500",
   "metadata": {},
   "outputs": [],
   "source": [
    "df['Status'] = df['Status'].replace(\"Inactive\", 'InActive')"
   ]
  },
  {
   "cell_type": "code",
   "execution_count": 14,
   "id": "1fa377d0-2dc0-4bab-a9a8-3a4cd9b12d8e",
   "metadata": {},
   "outputs": [
    {
     "data": {
      "text/plain": [
       "'TELANGANA'"
      ]
     },
     "execution_count": 14,
     "metadata": {},
     "output_type": "execute_result"
    }
   ],
   "source": [
    "State_mode = df['State'].mode()[0]\n",
    "State_mode"
   ]
  },
  {
   "cell_type": "code",
   "execution_count": 15,
   "id": "b53e2fe4-d921-4a5b-92df-ec17f908fda5",
   "metadata": {},
   "outputs": [],
   "source": [
    "df['State'] = df['State'].replace(np.NaN, State_mode)"
   ]
  },
  {
   "cell_type": "code",
   "execution_count": 16,
   "id": "cdb2a636-681c-4a17-b57c-8597424e7ed3",
   "metadata": {},
   "outputs": [
    {
     "data": {
      "text/plain": [
       "0"
      ]
     },
     "execution_count": 16,
     "metadata": {},
     "output_type": "execute_result"
    }
   ],
   "source": [
    "df['State'].isnull().sum()"
   ]
  },
  {
   "cell_type": "code",
   "execution_count": 17,
   "id": "ca1e388f-a5da-440c-b20b-d0eb988c522e",
   "metadata": {},
   "outputs": [],
   "source": [
    "df.rename(columns = {'Column1':'ID'}, inplace = True)"
   ]
  },
  {
   "cell_type": "code",
   "execution_count": 18,
   "id": "48c5e526-3d5e-4ce9-82e2-03d9bbba5c2f",
   "metadata": {},
   "outputs": [],
   "source": [
    "df=df.drop(['PostalCode'],axis=1)"
   ]
  },
  {
   "cell_type": "code",
   "execution_count": 19,
   "id": "883062fb-e5b1-4fe5-b0b9-76ecce3e9edc",
   "metadata": {},
   "outputs": [
    {
     "data": {
      "text/html": [
       "<div>\n",
       "<style scoped>\n",
       "    .dataframe tbody tr th:only-of-type {\n",
       "        vertical-align: middle;\n",
       "    }\n",
       "\n",
       "    .dataframe tbody tr th {\n",
       "        vertical-align: top;\n",
       "    }\n",
       "\n",
       "    .dataframe thead th {\n",
       "        text-align: right;\n",
       "    }\n",
       "</style>\n",
       "<table border=\"1\" class=\"dataframe\">\n",
       "  <thead>\n",
       "    <tr style=\"text-align: right;\">\n",
       "      <th></th>\n",
       "      <th>ID</th>\n",
       "      <th>Type</th>\n",
       "      <th>Status</th>\n",
       "      <th>City</th>\n",
       "      <th>State</th>\n",
       "      <th>GenderCode</th>\n",
       "      <th>BirthDate</th>\n",
       "      <th>MaritalStatus</th>\n",
       "      <th>Enrolled on</th>\n",
       "      <th>Living status</th>\n",
       "    </tr>\n",
       "  </thead>\n",
       "  <tbody>\n",
       "    <tr>\n",
       "      <th>0</th>\n",
       "      <td>00005DCC-4E51-41A5-91C5-6635B24C7D17</td>\n",
       "      <td>Business</td>\n",
       "      <td>InActive</td>\n",
       "      <td>Hyderabad</td>\n",
       "      <td>TELANGANA</td>\n",
       "      <td>MALE</td>\n",
       "      <td>12-Aug-18</td>\n",
       "      <td>U</td>\n",
       "      <td>12-Aug-18</td>\n",
       "      <td>couple with children</td>\n",
       "    </tr>\n",
       "    <tr>\n",
       "      <th>1</th>\n",
       "      <td>0001F49E-9FE7-11e8-9E9C-00505682069A</td>\n",
       "      <td>Individual</td>\n",
       "      <td>Active</td>\n",
       "      <td>Valsad</td>\n",
       "      <td>GUJARAT</td>\n",
       "      <td>MALE</td>\n",
       "      <td>2-Nov-92</td>\n",
       "      <td>M</td>\n",
       "      <td>14-Aug-18</td>\n",
       "      <td>couple with children</td>\n",
       "    </tr>\n",
       "    <tr>\n",
       "      <th>2</th>\n",
       "      <td>0001F4A2-9FE7-11e8-9E9C-00505682069A</td>\n",
       "      <td>Individual</td>\n",
       "      <td>Active</td>\n",
       "      <td>Secunderabad</td>\n",
       "      <td>TELANGANA</td>\n",
       "      <td>FEMALE</td>\n",
       "      <td>25-Nov-88</td>\n",
       "      <td>M</td>\n",
       "      <td>14-Aug-18</td>\n",
       "      <td>couple with children</td>\n",
       "    </tr>\n",
       "    <tr>\n",
       "      <th>3</th>\n",
       "      <td>0001F4CD-9FE7-11e8-9E9C-00505682069A</td>\n",
       "      <td>Individual</td>\n",
       "      <td>Active</td>\n",
       "      <td>Nalgonda</td>\n",
       "      <td>TELANGANA</td>\n",
       "      <td>MALE</td>\n",
       "      <td>13-Jun-83</td>\n",
       "      <td>M</td>\n",
       "      <td>14-Aug-18</td>\n",
       "      <td>couple with children</td>\n",
       "    </tr>\n",
       "    <tr>\n",
       "      <th>4</th>\n",
       "      <td>0001F4DE-9FE7-11e8-9E9C-00505682069A</td>\n",
       "      <td>Individual</td>\n",
       "      <td>Active</td>\n",
       "      <td>Hyderabad</td>\n",
       "      <td>TELANGANA</td>\n",
       "      <td>MALE</td>\n",
       "      <td>13-Jul-75</td>\n",
       "      <td>M</td>\n",
       "      <td>14-Aug-18</td>\n",
       "      <td>couple with children</td>\n",
       "    </tr>\n",
       "    <tr>\n",
       "      <th>...</th>\n",
       "      <td>...</td>\n",
       "      <td>...</td>\n",
       "      <td>...</td>\n",
       "      <td>...</td>\n",
       "      <td>...</td>\n",
       "      <td>...</td>\n",
       "      <td>...</td>\n",
       "      <td>...</td>\n",
       "      <td>...</td>\n",
       "      <td>...</td>\n",
       "    </tr>\n",
       "    <tr>\n",
       "      <th>9995</th>\n",
       "      <td>0476D7F9-6B51-11e8-B278-0050569D3164</td>\n",
       "      <td>Individual</td>\n",
       "      <td>Active</td>\n",
       "      <td>Hyderabad</td>\n",
       "      <td>Telangana</td>\n",
       "      <td>MALE</td>\n",
       "      <td>3-Jul-97</td>\n",
       "      <td>M</td>\n",
       "      <td>9-Jun-18</td>\n",
       "      <td>Couple without children</td>\n",
       "    </tr>\n",
       "    <tr>\n",
       "      <th>9996</th>\n",
       "      <td>0476D7FD-6B51-11e8-B278-0050569D3164</td>\n",
       "      <td>Individual</td>\n",
       "      <td>Active</td>\n",
       "      <td>Hyderabad</td>\n",
       "      <td>ANDHRA PRADESH</td>\n",
       "      <td>MALE</td>\n",
       "      <td>24-May-80</td>\n",
       "      <td>M</td>\n",
       "      <td>9-Jun-18</td>\n",
       "      <td>Couple without children</td>\n",
       "    </tr>\n",
       "    <tr>\n",
       "      <th>9997</th>\n",
       "      <td>0476D812-6B51-11e8-B278-0050569D3164</td>\n",
       "      <td>Individual</td>\n",
       "      <td>Active</td>\n",
       "      <td>Secunderabad</td>\n",
       "      <td>ANDHRA PRADESH</td>\n",
       "      <td>FEMALE</td>\n",
       "      <td>22-Nov-84</td>\n",
       "      <td>M</td>\n",
       "      <td>9-Jun-18</td>\n",
       "      <td>Couple without children</td>\n",
       "    </tr>\n",
       "    <tr>\n",
       "      <th>9998</th>\n",
       "      <td>0476D81A-6B51-11e8-B278-0050569D3164</td>\n",
       "      <td>Individual</td>\n",
       "      <td>Active</td>\n",
       "      <td>Hyderabad City</td>\n",
       "      <td>ANDHRA PRADESH</td>\n",
       "      <td>FEMALE</td>\n",
       "      <td>14-Jul-94</td>\n",
       "      <td>M</td>\n",
       "      <td>9-Jun-18</td>\n",
       "      <td>Couple without children</td>\n",
       "    </tr>\n",
       "    <tr>\n",
       "      <th>9999</th>\n",
       "      <td>0476D821-6B51-11e8-B278-0050569D3164</td>\n",
       "      <td>Individual</td>\n",
       "      <td>Active</td>\n",
       "      <td>Secunderabad</td>\n",
       "      <td>ANDHRA PRADESH</td>\n",
       "      <td>MALE</td>\n",
       "      <td>9-Jul-77</td>\n",
       "      <td>M</td>\n",
       "      <td>9-Jun-18</td>\n",
       "      <td>Couple without children</td>\n",
       "    </tr>\n",
       "  </tbody>\n",
       "</table>\n",
       "<p>10000 rows × 10 columns</p>\n",
       "</div>"
      ],
      "text/plain": [
       "                                        ID        Type    Status  \\\n",
       "0     00005DCC-4E51-41A5-91C5-6635B24C7D17    Business  InActive   \n",
       "1     0001F49E-9FE7-11e8-9E9C-00505682069A  Individual    Active   \n",
       "2     0001F4A2-9FE7-11e8-9E9C-00505682069A  Individual    Active   \n",
       "3     0001F4CD-9FE7-11e8-9E9C-00505682069A  Individual    Active   \n",
       "4     0001F4DE-9FE7-11e8-9E9C-00505682069A  Individual    Active   \n",
       "...                                    ...         ...       ...   \n",
       "9995  0476D7F9-6B51-11e8-B278-0050569D3164  Individual    Active   \n",
       "9996  0476D7FD-6B51-11e8-B278-0050569D3164  Individual    Active   \n",
       "9997  0476D812-6B51-11e8-B278-0050569D3164  Individual    Active   \n",
       "9998  0476D81A-6B51-11e8-B278-0050569D3164  Individual    Active   \n",
       "9999  0476D821-6B51-11e8-B278-0050569D3164  Individual    Active   \n",
       "\n",
       "                City           State GenderCode  BirthDate MaritalStatus  \\\n",
       "0          Hyderabad       TELANGANA       MALE  12-Aug-18             U   \n",
       "1             Valsad         GUJARAT       MALE   2-Nov-92             M   \n",
       "2       Secunderabad       TELANGANA     FEMALE  25-Nov-88             M   \n",
       "3           Nalgonda       TELANGANA       MALE  13-Jun-83             M   \n",
       "4          Hyderabad       TELANGANA       MALE  13-Jul-75             M   \n",
       "...              ...             ...        ...        ...           ...   \n",
       "9995       Hyderabad       Telangana       MALE   3-Jul-97             M   \n",
       "9996       Hyderabad  ANDHRA PRADESH       MALE  24-May-80             M   \n",
       "9997    Secunderabad  ANDHRA PRADESH     FEMALE  22-Nov-84             M   \n",
       "9998  Hyderabad City  ANDHRA PRADESH     FEMALE  14-Jul-94             M   \n",
       "9999    Secunderabad  ANDHRA PRADESH       MALE   9-Jul-77             M   \n",
       "\n",
       "     Enrolled on             Living status  \n",
       "0       12-Aug-18     couple with children  \n",
       "1       14-Aug-18     couple with children  \n",
       "2       14-Aug-18     couple with children  \n",
       "3       14-Aug-18     couple with children  \n",
       "4       14-Aug-18     couple with children  \n",
       "...           ...                      ...  \n",
       "9995     9-Jun-18  Couple without children  \n",
       "9996     9-Jun-18  Couple without children  \n",
       "9997     9-Jun-18  Couple without children  \n",
       "9998     9-Jun-18  Couple without children  \n",
       "9999     9-Jun-18  Couple without children  \n",
       "\n",
       "[10000 rows x 10 columns]"
      ]
     },
     "execution_count": 19,
     "metadata": {},
     "output_type": "execute_result"
    }
   ],
   "source": [
    "df"
   ]
  },
  {
   "cell_type": "markdown",
   "id": "c2eaf10c-6aa4-4cec-b02f-f09924ef1370",
   "metadata": {
    "tags": []
   },
   "source": [
    "# DashBoard "
   ]
  },
  {
   "cell_type": "code",
   "execution_count": 20,
   "id": "6012cfb6-095d-4039-ad30-20040ba7aba9",
   "metadata": {},
   "outputs": [
    {
     "name": "stderr",
     "output_type": "stream",
     "text": [
      " * Running on http://127.0.0.1:8052/ (Press CTRL+C to quit)\n",
      "127.0.0.1 - - [15/Mar/2022 23:10:42] \"\u001b[37mGET /_alive_4ff9b96f-a7a9-4309-8a40-763a100ec415 HTTP/1.1\u001b[0m\" 200 -\n"
     ]
    },
    {
     "data": {
      "text/html": [
       "\n",
       "        <iframe\n",
       "            width=\"100%\"\n",
       "            height=\"650\"\n",
       "            src=\"http://127.0.0.1:8052/\"\n",
       "            frameborder=\"0\"\n",
       "            allowfullscreen\n",
       "        ></iframe>\n",
       "        "
      ],
      "text/plain": [
       "<IPython.lib.display.IFrame at 0x1b24589c640>"
      ]
     },
     "metadata": {},
     "output_type": "display_data"
    },
    {
     "name": "stderr",
     "output_type": "stream",
     "text": [
      "127.0.0.1 - - [15/Mar/2022 23:10:42] \"\u001b[37mGET / HTTP/1.1\u001b[0m\" 200 -\n",
      "127.0.0.1 - - [15/Mar/2022 23:10:44] \"\u001b[37mGET / HTTP/1.1\u001b[0m\" 200 -\n",
      "127.0.0.1 - - [15/Mar/2022 23:10:44] \"\u001b[37mGET /_dash-layout HTTP/1.1\u001b[0m\" 200 -\n",
      "127.0.0.1 - - [15/Mar/2022 23:10:44] \"\u001b[37mGET /_dash-dependencies HTTP/1.1\u001b[0m\" 200 -\n",
      "127.0.0.1 - - [15/Mar/2022 23:10:44] \"\u001b[37mGET /_dash-dependencies HTTP/1.1\u001b[0m\" 200 -\n",
      "127.0.0.1 - - [15/Mar/2022 23:10:44] \"\u001b[37mGET /_dash-layout HTTP/1.1\u001b[0m\" 200 -\n",
      "127.0.0.1 - - [15/Mar/2022 23:10:45] \"\u001b[37mGET /assets/Email.png HTTP/1.1\u001b[0m\" 200 -\n",
      "127.0.0.1 - - [15/Mar/2022 23:10:45] \"\u001b[37mGET /assets/Email.png HTTP/1.1\u001b[0m\" 200 -\n",
      "127.0.0.1 - - [15/Mar/2022 23:10:45] \"\u001b[37mGET /_favicon.ico HTTP/1.1\u001b[0m\" 200 -\n",
      "127.0.0.1 - - [15/Mar/2022 23:10:45] \"\u001b[37mPOST /_dash-update-component HTTP/1.1\u001b[0m\" 200 -\n",
      "127.0.0.1 - - [15/Mar/2022 23:10:45] \"\u001b[37mPOST /_dash-update-component HTTP/1.1\u001b[0m\" 200 -\n",
      "127.0.0.1 - - [15/Mar/2022 23:10:59] \"\u001b[37mPOST /_dash-update-component HTTP/1.1\u001b[0m\" 200 -\n",
      "127.0.0.1 - - [15/Mar/2022 23:11:05] \"\u001b[37mPOST /_dash-update-component HTTP/1.1\u001b[0m\" 200 -\n",
      "127.0.0.1 - - [15/Mar/2022 23:11:10] \"\u001b[37mPOST /_dash-update-component HTTP/1.1\u001b[0m\" 200 -\n",
      "127.0.0.1 - - [15/Mar/2022 23:11:15] \"\u001b[37mPOST /_dash-update-component HTTP/1.1\u001b[0m\" 200 -\n"
     ]
    }
   ],
   "source": [
    "app = JupyterDash(__name__)\n",
    "\n",
    "#_______________________________________________________\n",
    "\n",
    "app.layout = html.Div([\n",
    "    html.H1('Email Marketing Report',style={'color':'#191970','text-align':'center'}),\n",
    "    html.Img(src=app.get_asset_url('Email.png'),style={'height':'30%', 'width':'30%'}),   \n",
    "    html.H3(\"Choose Column Name:\",style={'color': '#191970','width': '20%'}),\n",
    "    html.Br(),\n",
    "    dcc.Dropdown(\n",
    "        id='name', \n",
    "        options=[\n",
    "            {'label': 'Type', 'value': 'Type'},\n",
    "            {'label': 'Status', 'value': 'Status'},\n",
    "            {'label': 'GenderCode', 'value': 'GenderCode'},\n",
    "            {'label': 'Living status', 'value': 'Living status'},\n",
    "            {'label': 'MaritalStatus', 'value': 'MaritalStatus'}],\n",
    "        value = 'Type',\n",
    "        multi=False,\n",
    "        style={'width': '40%'}\n",
    "    ),\n",
    "    html.Br(),\n",
    "    dcc.Graph(id=\"pie\"),\n",
    "    \n",
    "    html.Br(),\n",
    "    dcc.Graph(id=\"subplot\"),\n",
    "    html.Br(),\n",
    "    html.H3(\"Choose State Name:\",style={'color': '#191970','width': '20%'}),\n",
    "    dcc.Dropdown(\n",
    "        id='State',\n",
    "        options=[\n",
    "            {'label': i, 'value': i}\n",
    "            for i in df['State'].unique()\n",
    "        ],\n",
    "        value='TELANGANA',\n",
    "        style={'width': '40%'}\n",
    "    ),\n",
    "    html.Br(),\n",
    "    html.H3(\"Choose Gender Code:\",style={'color': '#191970','width': '20%'}),\n",
    "    html.Br(),    \n",
    "    dcc.RadioItems(id = 'GenderCode',\n",
    "                   options= [\n",
    "                       {'label': i, 'value': i}\n",
    "                       for i in df['GenderCode'].unique()],\n",
    "                   value='MALE'),\n",
    "    html.Br(),    \n",
    "    dcc.Graph(id=\"subscatter\"),\n",
    "\n",
    "\n",
    "])\n",
    "\n",
    "#____________________________________________________________\n",
    "\n",
    "@app.callback(\n",
    "    [Output(\"pie\", \"figure\"),\n",
    "    Output(\"subplot\", \"figure\"),\n",
    "    Output(\"subscatter\", \"figure\")],\n",
    "    [Input(\"name\", \"value\"),\n",
    "    Input(\"State\", \"value\"),\n",
    "    Input(\"GenderCode\", \"value\")])\n",
    "\n",
    "def generate_chart(names,option_affected,option_Gender):\n",
    "    \n",
    "    ddf = df.copy()\n",
    "    dff = df.copy()\n",
    "    dff = dff[dff[\"State\"] == option_affected]\n",
    "    dff = dff[dff[\"GenderCode\"] == option_Gender]\n",
    "          \n",
    "    fig_pie=px.pie(data_frame=ddf,\n",
    "               names=names,\n",
    "               title=f\" values of {names}\",\n",
    "               color_discrete_sequence=px.colors.sequential.Viridis,)\n",
    "    fig_pie.update_layout(paper_bgcolor=\"LightSteelBlue\",width=1000,height=500)  \n",
    "    \n",
    "    fig = make_subplots(\n",
    "    rows=1, cols=2,)\n",
    "\n",
    "    fig.add_trace(go.Box(y=dff[\"BirthDate\"],name = \"\")\n",
    "                  ,row=1, col=1)\n",
    "    fig.add_trace(go.Histogram(x=dff[\"Enrolled on \"],marker_color='#483D8B',name = None)\n",
    "                  ,row=1, col=2)\n",
    "\n",
    "\n",
    "    fig.update_layout(width=1000,height=500,\n",
    "                  paper_bgcolor=\"LightSteelBlue\",showlegend=False,\n",
    "                     title= f'Birth date and Enrolled  {option_Gender} and {option_affected}')\n",
    "    \n",
    "    \n",
    "    fig1 = make_subplots(\n",
    "    rows=1, cols=3,)\n",
    "\n",
    "    fig1.add_trace(go.Scatter(x=dff[\"Living status\"],mode='markers')\n",
    "                  ,row=1, col=1)\n",
    "    fig1.add_trace(go.Scatter(x=dff[\"Status\"],mode='markers')\n",
    "                  ,row=1, col=2)\n",
    "    fig1.add_trace(go.Scatter(x=dff[\"Type\"],mode='markers')\n",
    "                  ,row=1, col=3)\n",
    "\n",
    "    fig1.update_layout(width=1000,height=500,\n",
    "                       paper_bgcolor=\"LightSteelBlue\",\n",
    "                       title= f'Comparing between Living status,Status and Type by {option_Gender} and {option_affected}',\n",
    "                       showlegend=False)\n",
    "\n",
    "    \n",
    "\n",
    "\n",
    "    return (fig_pie,fig,fig1)\n",
    "\n",
    "    \n",
    "    \n",
    "\n",
    "if __name__ == '__main__':\n",
    "    app.run_server(mode=\"inline\", debug=False, port=8052)"
   ]
  },
  {
   "cell_type": "code",
   "execution_count": null,
   "id": "117f8c90-3577-4fdd-917d-ee049d7439d4",
   "metadata": {},
   "outputs": [],
   "source": []
  },
  {
   "cell_type": "code",
   "execution_count": null,
   "id": "f6fe95b5-9cae-4537-ade7-9a73280a7f62",
   "metadata": {},
   "outputs": [],
   "source": []
  },
  {
   "cell_type": "code",
   "execution_count": null,
   "id": "8080a1a3-cf59-40b7-a44a-b8a6b65136fe",
   "metadata": {},
   "outputs": [],
   "source": []
  }
 ],
 "metadata": {
  "kernelspec": {
   "display_name": "Python 3",
   "language": "python",
   "name": "python3"
  },
  "language_info": {
   "codemirror_mode": {
    "name": "ipython",
    "version": 3
   },
   "file_extension": ".py",
   "mimetype": "text/x-python",
   "name": "python",
   "nbconvert_exporter": "python",
   "pygments_lexer": "ipython3",
   "version": "3.8.8"
  }
 },
 "nbformat": 4,
 "nbformat_minor": 5
}
