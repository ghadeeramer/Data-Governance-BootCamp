{
 "cells": [
  {
   "cell_type": "code",
   "execution_count": 1,
   "id": "fd76c126-9d6e-4219-a7c0-5ef9dc1a4bfb",
   "metadata": {},
   "outputs": [],
   "source": [
    "import pandas as pd\n",
    "import requests\n",
    "import matplotlib.pyplot as plt\n",
    "import numpy as np"
   ]
  },
  {
   "cell_type": "code",
   "execution_count": 2,
   "id": "5c13e34f-e8fd-43da-bd9a-7c0b91b7f124",
   "metadata": {},
   "outputs": [
    {
     "name": "stdout",
     "output_type": "stream",
     "text": [
      "1. Title: Hepatitis Domain\n",
      "\n",
      "2. Sources:\n",
      "     (a) unknown\n",
      "     (b) Donor: G.Gong  (Carnegie-Mellon University) via \n",
      "                   Bojan Cestnik\n",
      "                   Jozef Stefan Institute\n",
      "                   Jamova 39"
     ]
    },
    {
     "name": "stderr",
     "output_type": "stream",
     "text": [
      "  % Total    % Received % Xferd  Average Speed   Time    Time     Time  Current\n",
      "                                 Dload  Upload   Total   Spent    Left  Speed\n",
      "\n",
      "  0     0    0     0    0     0      0      0 --:--:-- --:--:-- --:--:--     0\n",
      "  0     0    0     0    0     0      0      0 --:--:-- --:--:-- --:--:--     0\n",
      "  0  3098    0     0    0     0      0      0 --:--:--  0:00:01 --:--:--     0\n",
      "100  3098  100  3098    0     0   1989      0  0:00:01  0:00:01 --:--:--  1988\n"
     ]
    },
    {
     "name": "stdout",
     "output_type": "stream",
     "text": [
      "\n",
      "                   61000 Ljubljana\n",
      "                   Yugoslavia (tel.: (38)(+61) 214-399 ext.287) }\n",
      "     (c) Date: November, 1988\n",
      "\n",
      "3. Past Usage:\n",
      "    1. Diaconis,P. & Efron,B. (1983).  Computer-Intensive Methods in \n",
      "       Statistics.  Scientific American, Volume 248.\n",
      "       -- Gail Gong reported a 80% classfication accuracy\n",
      "    2. Cestnik,G., Konenenko,I, & Bratko,I. (1987). Assistant-86: A\n",
      "       Knowledge-Elicitation Tool for Sophisticated Users.  In I.Bratko\n",
      "       & N.Lavrac (Eds.) Progress in Machine Learning, 31-45, Sigma Press.\n",
      "       -- Assistant-86: 83% accuracy\n",
      "\n",
      "4. Relevant Information:\n",
      "    Please ask Gail Gong for further information on this database.\n",
      "\n",
      "5. Number of Instances: 155\n",
      "\n",
      "6. Number of Attributes: 20 (including the class attribute)\n",
      "\n",
      "7. Attribute information: \n",
      "     1. Class: DIE, LIVE\n",
      "     2. AGE: 10, 20, 30, 40, 50, 60, 70, 80\n",
      "     3. SEX: male, female\n",
      "     4. STEROID: no, yes\n",
      "     5. ANTIVIRALS: no, yes\n",
      "     6. FATIGUE: no, yes\n",
      "     7. MALAISE: no, yes\n",
      "     8. ANOREXIA: no, yes\n",
      "     9. LIVER BIG: no, yes\n",
      "    10. LIVER FIRM: no, yes\n",
      "    11. SPLEEN PALPABLE: no, yes\n",
      "    12. SPIDERS: no, yes\n",
      "    13. ASCITES: no, yes\n",
      "    14. VARICES: no, yes\n",
      "    15. BILIRUBIN: 0.39, 0.80, 1.20, 2.00, 3.00, 4.00\n",
      "        -- see the note below\n",
      "    16. ALK PHOSPHATE: 33, 80, 120, 160, 200, 250\n",
      "    17. SGOT: 13, 100, 200, 300, 400, 500, \n",
      "    18. ALBUMIN: 2.1, 3.0, 3.8, 4.5, 5.0, 6.0\n",
      "    19. PROTIME: 10, 20, 30, 40, 50, 60, 70, 80, 90\n",
      "    20. HISTOLOGY: no, yes\n",
      "\n",
      "    The BILIRUBIN attribute appears to be continuously-valued.  I checked\n",
      "    this with the donater, Bojan Cestnik, who replied:\n",
      "\n",
      "      About the hepatitis database and BILIRUBIN problem I would like to say\n",
      "      the following: BILIRUBIN is continuous attribute (= the number of it's\n",
      "      \"values\" in the ASDOHEPA.DAT file is negative!!!); \"values\" are quoted\n",
      "      because when speaking about the continuous attribute there is no such \n",
      "      thing as all possible values. However, they represent so called\n",
      "      \"boundary\" values; according to these \"boundary\" values the attribute\n",
      "      can be discretized. At the same time, because of the continious\n",
      "      attribute, one can perform some other test since the continuous\n",
      "      information is preserved. I hope that these lines have at least roughly \n",
      "      answered your question. \n",
      "\n",
      "8. Missing Attribute Values: (indicated by \"?\")\n",
      "     Attribute Number:    Number of Missing Values:\n",
      "                    1:    0\n",
      "                    2:    0\n",
      "                    3:    0\n",
      "                    4:    1\n",
      "                    5:    0\n",
      "                    6:    1\n",
      "                    7:    1\n",
      "                    8:    1\n",
      "                    9:    10\n",
      "\t\t   10:    11\n",
      "\t\t   11:    5\n",
      "\t\t   12:    5\n",
      "\t\t   13:    5\n",
      "\t\t   14:    5\n",
      "\t\t   15:    6\n",
      "\t\t   16:    29\n",
      "\t\t   17:    4\n",
      "\t\t   18:    16\n",
      "\t\t   19:    67\n",
      "\t\t   20:    0\n",
      "\n",
      "9. Class Distribution:\n",
      "     DIE: 32\n",
      "    LIVE: 123\n"
     ]
    }
   ],
   "source": [
    "!curl https://archive.ics.uci.edu/ml/machine-learning-databases/hepatitis/hepatitis.names"
   ]
  },
  {
   "cell_type": "code",
   "execution_count": 3,
   "id": "5e3b07d5-044e-4a4a-893b-5109415a3806",
   "metadata": {},
   "outputs": [
    {
     "data": {
      "text/html": [
       "<div>\n",
       "<style scoped>\n",
       "    .dataframe tbody tr th:only-of-type {\n",
       "        vertical-align: middle;\n",
       "    }\n",
       "\n",
       "    .dataframe tbody tr th {\n",
       "        vertical-align: top;\n",
       "    }\n",
       "\n",
       "    .dataframe thead th {\n",
       "        text-align: right;\n",
       "    }\n",
       "</style>\n",
       "<table border=\"1\" class=\"dataframe\">\n",
       "  <thead>\n",
       "    <tr style=\"text-align: right;\">\n",
       "      <th></th>\n",
       "      <th>Class</th>\n",
       "      <th>AGE</th>\n",
       "      <th>SEX</th>\n",
       "      <th>STEROID</th>\n",
       "      <th>ANTIVIRALS</th>\n",
       "      <th>FATIGUE</th>\n",
       "      <th>MALAISE</th>\n",
       "      <th>ANOREXIA</th>\n",
       "      <th>LIVER BIG</th>\n",
       "      <th>LIVER FIRM</th>\n",
       "      <th>SPLEEN</th>\n",
       "      <th>SPIDERS</th>\n",
       "      <th>ASCITES</th>\n",
       "      <th>VARICES</th>\n",
       "      <th>BILIRUBIN</th>\n",
       "      <th>ALK PHOSPHATE</th>\n",
       "      <th>SGOT</th>\n",
       "      <th>ALBUMIN</th>\n",
       "      <th>PROTIME</th>\n",
       "      <th>HISTOLOGY</th>\n",
       "    </tr>\n",
       "  </thead>\n",
       "  <tbody>\n",
       "    <tr>\n",
       "      <th>0</th>\n",
       "      <td>2</td>\n",
       "      <td>30</td>\n",
       "      <td>2</td>\n",
       "      <td>1</td>\n",
       "      <td>2</td>\n",
       "      <td>2</td>\n",
       "      <td>2</td>\n",
       "      <td>2</td>\n",
       "      <td>1</td>\n",
       "      <td>2</td>\n",
       "      <td>2</td>\n",
       "      <td>2</td>\n",
       "      <td>2</td>\n",
       "      <td>2</td>\n",
       "      <td>1.00</td>\n",
       "      <td>85</td>\n",
       "      <td>18</td>\n",
       "      <td>4.0</td>\n",
       "      <td>?</td>\n",
       "      <td>1</td>\n",
       "    </tr>\n",
       "    <tr>\n",
       "      <th>1</th>\n",
       "      <td>2</td>\n",
       "      <td>50</td>\n",
       "      <td>1</td>\n",
       "      <td>1</td>\n",
       "      <td>2</td>\n",
       "      <td>1</td>\n",
       "      <td>2</td>\n",
       "      <td>2</td>\n",
       "      <td>1</td>\n",
       "      <td>2</td>\n",
       "      <td>2</td>\n",
       "      <td>2</td>\n",
       "      <td>2</td>\n",
       "      <td>2</td>\n",
       "      <td>0.90</td>\n",
       "      <td>135</td>\n",
       "      <td>42</td>\n",
       "      <td>3.5</td>\n",
       "      <td>?</td>\n",
       "      <td>1</td>\n",
       "    </tr>\n",
       "    <tr>\n",
       "      <th>2</th>\n",
       "      <td>2</td>\n",
       "      <td>78</td>\n",
       "      <td>1</td>\n",
       "      <td>2</td>\n",
       "      <td>2</td>\n",
       "      <td>1</td>\n",
       "      <td>2</td>\n",
       "      <td>2</td>\n",
       "      <td>2</td>\n",
       "      <td>2</td>\n",
       "      <td>2</td>\n",
       "      <td>2</td>\n",
       "      <td>2</td>\n",
       "      <td>2</td>\n",
       "      <td>0.70</td>\n",
       "      <td>96</td>\n",
       "      <td>32</td>\n",
       "      <td>4.0</td>\n",
       "      <td>?</td>\n",
       "      <td>1</td>\n",
       "    </tr>\n",
       "    <tr>\n",
       "      <th>3</th>\n",
       "      <td>2</td>\n",
       "      <td>31</td>\n",
       "      <td>1</td>\n",
       "      <td>?</td>\n",
       "      <td>1</td>\n",
       "      <td>2</td>\n",
       "      <td>2</td>\n",
       "      <td>2</td>\n",
       "      <td>2</td>\n",
       "      <td>2</td>\n",
       "      <td>2</td>\n",
       "      <td>2</td>\n",
       "      <td>2</td>\n",
       "      <td>2</td>\n",
       "      <td>0.70</td>\n",
       "      <td>46</td>\n",
       "      <td>52</td>\n",
       "      <td>4.0</td>\n",
       "      <td>80</td>\n",
       "      <td>1</td>\n",
       "    </tr>\n",
       "    <tr>\n",
       "      <th>4</th>\n",
       "      <td>2</td>\n",
       "      <td>34</td>\n",
       "      <td>1</td>\n",
       "      <td>2</td>\n",
       "      <td>2</td>\n",
       "      <td>2</td>\n",
       "      <td>2</td>\n",
       "      <td>2</td>\n",
       "      <td>2</td>\n",
       "      <td>2</td>\n",
       "      <td>2</td>\n",
       "      <td>2</td>\n",
       "      <td>2</td>\n",
       "      <td>2</td>\n",
       "      <td>1.00</td>\n",
       "      <td>?</td>\n",
       "      <td>200</td>\n",
       "      <td>4.0</td>\n",
       "      <td>?</td>\n",
       "      <td>1</td>\n",
       "    </tr>\n",
       "  </tbody>\n",
       "</table>\n",
       "</div>"
      ],
      "text/plain": [
       "   Class  AGE SEX STEROID  ANTIVIRALS FATIGUE MALAISE ANOREXIA LIVER BIG  \\\n",
       "0      2   30   2       1           2       2       2        2         1   \n",
       "1      2   50   1       1           2       1       2        2         1   \n",
       "2      2   78   1       2           2       1       2        2         2   \n",
       "3      2   31   1       ?           1       2       2        2         2   \n",
       "4      2   34   1       2           2       2       2        2         2   \n",
       "\n",
       "  LIVER FIRM SPLEEN SPIDERS ASCITES VARICES BILIRUBIN ALK PHOSPHATE SGOT  \\\n",
       "0          2      2       2       2       2      1.00            85   18   \n",
       "1          2      2       2       2       2      0.90           135   42   \n",
       "2          2      2       2       2       2      0.70            96   32   \n",
       "3          2      2       2       2       2      0.70            46   52   \n",
       "4          2      2       2       2       2      1.00             ?  200   \n",
       "\n",
       "  ALBUMIN PROTIME  HISTOLOGY  \n",
       "0     4.0       ?          1  \n",
       "1     3.5       ?          1  \n",
       "2     4.0       ?          1  \n",
       "3     4.0      80          1  \n",
       "4     4.0       ?          1  "
      ]
     },
     "execution_count": 3,
     "metadata": {},
     "output_type": "execute_result"
    }
   ],
   "source": [
    "\n",
    "PATH_URL = \"https://archive.ics.uci.edu/ml/machine-learning-databases/hepatitis/hepatitis.data\"\n",
    "\n",
    "# Save column names as a list\n",
    "col_ls = [\"Class\", \"AGE\", \"SEX\",\"STEROID\",\"ANTIVIRALS\",\"FATIGUE\",\"MALAISE\",\"ANOREXIA\",\"LIVER BIG\",\"LIVER FIRM\",\"SPLEEN\",\"SPIDERS\",\"ASCITES\",\"VARICES\",\"BILIRUBIN\",\"ALK PHOSPHATE\",\"SGOT\",\"ALBUMIN\",\"PROTIME\",\"HISTOLOGY\"]\n",
    "\n",
    "# Pass in col_ls into names parameter to explicitly name each column\n",
    "df_url = pd.read_csv(PATH_URL,names=col_ls)\n",
    "df_url['SEX'] = df_url['SEX'].astype(str)\n",
    "df_url.head()"
   ]
  },
  {
   "cell_type": "code",
   "execution_count": 4,
   "id": "37b64f6d-6498-453a-a371-0e65fd7d45a8",
   "metadata": {},
   "outputs": [
    {
     "name": "stdout",
     "output_type": "stream",
     "text": [
      "Class             int64\n",
      "AGE               int64\n",
      "SEX              object\n",
      "STEROID          object\n",
      "ANTIVIRALS        int64\n",
      "FATIGUE          object\n",
      "MALAISE          object\n",
      "ANOREXIA         object\n",
      "LIVER BIG        object\n",
      "LIVER FIRM       object\n",
      "SPLEEN           object\n",
      "SPIDERS          object\n",
      "ASCITES          object\n",
      "VARICES          object\n",
      "BILIRUBIN        object\n",
      "ALK PHOSPHATE    object\n",
      "SGOT             object\n",
      "ALBUMIN          object\n",
      "PROTIME          object\n",
      "HISTOLOGY         int64\n",
      "dtype: object\n"
     ]
    }
   ],
   "source": [
    "print (df_url.dtypes)\n"
   ]
  },
  {
   "cell_type": "code",
   "execution_count": 5,
   "id": "768f9e60-94c0-46ed-813d-466146e7f6e1",
   "metadata": {},
   "outputs": [
    {
     "data": {
      "text/plain": [
       "(155, 20)"
      ]
     },
     "execution_count": 5,
     "metadata": {},
     "output_type": "execute_result"
    }
   ],
   "source": [
    "df_url.shape"
   ]
  },
  {
   "cell_type": "code",
   "execution_count": 6,
   "id": "e12971f9-9a1d-4d10-abae-5ac40d818ec2",
   "metadata": {},
   "outputs": [
    {
     "data": {
      "text/html": [
       "<div>\n",
       "<style scoped>\n",
       "    .dataframe tbody tr th:only-of-type {\n",
       "        vertical-align: middle;\n",
       "    }\n",
       "\n",
       "    .dataframe tbody tr th {\n",
       "        vertical-align: top;\n",
       "    }\n",
       "\n",
       "    .dataframe thead th {\n",
       "        text-align: right;\n",
       "    }\n",
       "</style>\n",
       "<table border=\"1\" class=\"dataframe\">\n",
       "  <thead>\n",
       "    <tr style=\"text-align: right;\">\n",
       "      <th></th>\n",
       "      <th>Class</th>\n",
       "      <th>AGE</th>\n",
       "      <th>ANTIVIRALS</th>\n",
       "      <th>HISTOLOGY</th>\n",
       "    </tr>\n",
       "  </thead>\n",
       "  <tbody>\n",
       "    <tr>\n",
       "      <th>count</th>\n",
       "      <td>155.000000</td>\n",
       "      <td>155.000000</td>\n",
       "      <td>155.000000</td>\n",
       "      <td>155.000000</td>\n",
       "    </tr>\n",
       "    <tr>\n",
       "      <th>mean</th>\n",
       "      <td>1.793548</td>\n",
       "      <td>41.200000</td>\n",
       "      <td>1.845161</td>\n",
       "      <td>1.451613</td>\n",
       "    </tr>\n",
       "    <tr>\n",
       "      <th>std</th>\n",
       "      <td>0.406070</td>\n",
       "      <td>12.565878</td>\n",
       "      <td>0.362923</td>\n",
       "      <td>0.499266</td>\n",
       "    </tr>\n",
       "    <tr>\n",
       "      <th>min</th>\n",
       "      <td>1.000000</td>\n",
       "      <td>7.000000</td>\n",
       "      <td>1.000000</td>\n",
       "      <td>1.000000</td>\n",
       "    </tr>\n",
       "    <tr>\n",
       "      <th>25%</th>\n",
       "      <td>2.000000</td>\n",
       "      <td>32.000000</td>\n",
       "      <td>2.000000</td>\n",
       "      <td>1.000000</td>\n",
       "    </tr>\n",
       "    <tr>\n",
       "      <th>50%</th>\n",
       "      <td>2.000000</td>\n",
       "      <td>39.000000</td>\n",
       "      <td>2.000000</td>\n",
       "      <td>1.000000</td>\n",
       "    </tr>\n",
       "    <tr>\n",
       "      <th>75%</th>\n",
       "      <td>2.000000</td>\n",
       "      <td>50.000000</td>\n",
       "      <td>2.000000</td>\n",
       "      <td>2.000000</td>\n",
       "    </tr>\n",
       "    <tr>\n",
       "      <th>max</th>\n",
       "      <td>2.000000</td>\n",
       "      <td>78.000000</td>\n",
       "      <td>2.000000</td>\n",
       "      <td>2.000000</td>\n",
       "    </tr>\n",
       "  </tbody>\n",
       "</table>\n",
       "</div>"
      ],
      "text/plain": [
       "            Class         AGE  ANTIVIRALS   HISTOLOGY\n",
       "count  155.000000  155.000000  155.000000  155.000000\n",
       "mean     1.793548   41.200000    1.845161    1.451613\n",
       "std      0.406070   12.565878    0.362923    0.499266\n",
       "min      1.000000    7.000000    1.000000    1.000000\n",
       "25%      2.000000   32.000000    2.000000    1.000000\n",
       "50%      2.000000   39.000000    2.000000    1.000000\n",
       "75%      2.000000   50.000000    2.000000    2.000000\n",
       "max      2.000000   78.000000    2.000000    2.000000"
      ]
     },
     "execution_count": 6,
     "metadata": {},
     "output_type": "execute_result"
    }
   ],
   "source": [
    "df_url.describe()"
   ]
  },
  {
   "cell_type": "code",
   "execution_count": 7,
   "id": "e9e1bdb1-cfc0-484e-84ca-a0ba741fc215",
   "metadata": {},
   "outputs": [
    {
     "data": {
      "image/png": "[encoded data removed]",
      "text/plain": [
       "<Figure size 720x360 with 1 Axes>"
      ]
     },
     "metadata": {
      "needs_background": "light"
     },
     "output_type": "display_data"
    }
   ],
   "source": [
    "# Histogram plot\n",
    "x = df_url[\"AGE\"].values\n",
    "\n",
    "plt.figure(figsize=(10,5))\n",
    "plt.hist(x, bins=24)\n",
    "\n",
    "plt.title(\"Histogram of COMFORT\")\n",
    "plt.ylabel(\"Frequency\")\n",
    "plt.xlabel(\"AGE\")\n",
    "\n",
    "plt.show()\n"
   ]
  },
  {
   "cell_type": "code",
   "execution_count": 8,
   "id": "30ce5d14-0525-4fb1-af7e-9d2982479d29",
   "metadata": {},
   "outputs": [
    {
     "data": {
      "image/png": "[encoded data removed]",
      "text/plain": [
       "<Figure size 720x360 with 1 Axes>"
      ]
     },
     "metadata": {
      "needs_background": "light"
     },
     "output_type": "display_data"
    }
   ],
   "source": [
    "# Scatter plot\n",
    "x = df_url[\"SEX\"].values\n",
    "y = df_url[\"AGE\"].values\n",
    "\n",
    "plt.figure(figsize=(10,5))\n",
    "plt.scatter(x, y, color=\"g\")\n",
    "\n",
    "plt.title(\"Scatter plot for age & sex\", c=\"b\")\n",
    "plt.xlabel(\"SEX\", c=\"b\")\n",
    "plt.ylabel(\"AGE\", c=\"b\")\n",
    "\n",
    "plt.show()"
   ]
  },
  {
   "cell_type": "code",
   "execution_count": 9,
   "id": "d48d8021-7237-43ff-9d4a-8f5390052974",
   "metadata": {},
   "outputs": [
    {
     "data": {
      "image/png": "[encoded data removed]",
      "text/plain": [
       "<Figure size 720x360 with 1 Axes>"
      ]
     },
     "metadata": {
      "needs_background": "light"
     },
     "output_type": "display_data"
    }
   ],
   "source": [
    "#Boxplot\n",
    "x = df_url[\"AGE\"].values\n",
    "\n",
    "plt.figure(figsize=(10,5))\n",
    "plt.boxplot(x)\n",
    "\n",
    "plt.title(\"Boxplot of AGE\")\n",
    "plt.ylabel(\"AGE Amount\")\n",
    "plt.xlabel(\"AGE\")\n",
    "\n",
    "plt.show()"
   ]
  },
  {
   "cell_type": "code",
   "execution_count": 10,
   "id": "43930ec0-1697-46cd-88aa-1fd58d85c687",
   "metadata": {},
   "outputs": [
    {
     "data": {
      "text/plain": [
       "Text(0, 0.5, 'SGOT')"
      ]
     },
     "execution_count": 10,
     "metadata": {},
     "output_type": "execute_result"
    },
    {
     "data": {
      "image/png": "[encoded data removed]",
      "text/plain": [
       "<Figure size 720x360 with 1 Axes>"
      ]
     },
     "metadata": {
      "needs_background": "light"
     },
     "output_type": "display_data"
    }
   ],
   "source": [
    "#line plot\n",
    "x = df_url[\"SGOT\"].values\n",
    "\n",
    "plt.figure(figsize=(10,5))\n",
    "plt.plot(x)\n",
    "\n",
    "plt.title(\"Line Plot\") \n",
    "plt.xlabel(\"Frequency\")\n",
    "plt.ylabel(\"SGOT\")"
   ]
  },
  {
   "cell_type": "code",
   "execution_count": 11,
   "id": "58f56706-c8fe-4d1c-841e-376ade810c8f",
   "metadata": {},
   "outputs": [
    {
     "name": "stdout",
     "output_type": "stream",
     "text": [
      "[139  16]\n",
      "Index(['1', '2'], dtype='object')\n"
     ]
    }
   ],
   "source": [
    "#pie plot\n",
    "type( df_url[\"SEX\"].value_counts())\n",
    "\n",
    "series = df_url[\"SEX\"].value_counts()\n",
    "\n",
    "print(series.values)\n",
    "print(series.index)"
   ]
  },
  {
   "cell_type": "code",
   "execution_count": 12,
   "id": "fa11a26e-c193-427f-90fd-cb52e981833a",
   "metadata": {},
   "outputs": [
    {
     "data": {
      "image/png": "[encoded data removed]",
      "text/plain": [
       "<Figure size 720x360 with 1 Axes>"
      ]
     },
     "metadata": {},
     "output_type": "display_data"
    }
   ],
   "source": [
    "series = df_url[\"SEX\"].value_counts() \n",
    "\n",
    "labels = series.index\n",
    "\n",
    "values = series.values\n",
    "\n",
    "plt.figure(figsize=(10,5))\n",
    "\n",
    "plt.pie(values) \n",
    "plt.title(\"SEX\")\n",
    "plt.pie(values, labels = labels, shadow = True, autopct = '%1.1f%%')\n",
    "\n",
    "plt.show()"
   ]
  },
  {
   "cell_type": "code",
   "execution_count": 13,
   "id": "d318414f-51ae-4946-bcbd-c12a867f034e",
   "metadata": {},
   "outputs": [
    {
     "data": {
      "text/plain": [
       "Text(0, 0.5, 'HISTOLOGY')"
      ]
     },
     "execution_count": 13,
     "metadata": {},
     "output_type": "execute_result"
    },
    {
     "data": {
      "image/png": "[encoded data removed]",
      "text/plain": [
       "<Figure size 720x360 with 1 Axes>"
      ]
     },
     "metadata": {
      "needs_background": "light"
     },
     "output_type": "display_data"
    }
   ],
   "source": [
    "#bar plot\n",
    "x = df_url[\"SEX\"].values\n",
    "y = df_url[\"HISTOLOGY\"].values\n",
    "\n",
    "plt.figure(figsize=(10,5))\n",
    "plt.bar(x, y, color=\"b\", width = 0.3) \n",
    "\n",
    "plt.title(\"Bar Chart\", c=\"black\") \n",
    "plt.xlabel(\"sex\") \n",
    "plt.ylabel(\"HISTOLOGY\")"
   ]
  },
  {
   "cell_type": "code",
   "execution_count": null,
   "id": "93ea0a04-75fe-4032-bc81-d9d791d593fb",
   "metadata": {},
   "outputs": [],
   "source": []
  }
 ],
 "metadata": {
  "kernelspec": {
   "display_name": "Python 3",
   "language": "python",
   "name": "python3"
  },
  "language_info": {
   "codemirror_mode": {
    "name": "ipython",
    "version": 3
   },
   "file_extension": ".py",
   "mimetype": "text/x-python",
   "name": "python",
   "nbconvert_exporter": "python",
   "pygments_lexer": "ipython3",
   "version": "3.8.8"
  }
 },
 "nbformat": 4,
 "nbformat_minor": 5
}
